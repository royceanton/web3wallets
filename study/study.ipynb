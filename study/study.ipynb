{
 "cells": [
  {
   "cell_type": "markdown",
   "metadata": {},
   "source": [
    "# Plan"
   ]
  },
  {
   "cell_type": "markdown",
   "metadata": {},
   "source": [
    "``````\n",
    "Web-3-Wallet-Generator/\n",
    "├── study/\n",
    "│   └── wallets\n",
    "│   └── study.ipynb\n",
    "├── .gitignore\n",
    "├── LICENSE\n",
    "├── README.md\n",
    "├── pyproject.toml\n",
    "├── docs/\n",
    "│   └── index.md\n",
    "├── tests/\n",
    "│   └── test_wallet_generator.py\n",
    "└── web_3_wallet_generator/\n",
    "    ├── blockchains/\n",
    "    │   ├── __init__.py\n",
    "    │   ├── ethereum.py\n",
    "    │   ├── avalanche.py\n",
    "    │   └── cosmos.py\n",
    "    ├── __init__.py\n",
    "    └── wallet_generator.py\n",
    "    \n",
    "``````"
   ]
  },
  {
   "cell_type": "markdown",
   "metadata": {},
   "source": []
  },
  {
   "cell_type": "code",
   "execution_count": 20,
   "metadata": {},
   "outputs": [
    {
     "name": "stdout",
     "output_type": "stream",
     "text": [
      "Requirement already satisfied: eth_account in /Users/royceantonjose/anaconda3/envs/trading/lib/python3.10/site-packages (0.5.9)\n",
      "Requirement already satisfied: coincurve in /Users/royceantonjose/anaconda3/envs/trading/lib/python3.10/site-packages (18.0.0)\n",
      "Requirement already satisfied: pysha3 in /Users/royceantonjose/anaconda3/envs/trading/lib/python3.10/site-packages (1.0.2)\n",
      "Requirement already satisfied: bech32 in /Users/royceantonjose/anaconda3/envs/trading/lib/python3.10/site-packages (1.2.0)\n",
      "Requirement already satisfied: ecdsa in /Users/royceantonjose/anaconda3/envs/trading/lib/python3.10/site-packages (0.18.0)\n",
      "Requirement already satisfied: hdwallets in /Users/royceantonjose/anaconda3/envs/trading/lib/python3.10/site-packages (0.1.2)\n",
      "Collecting mnemonic\n",
      "  Downloading mnemonic-0.20-py3-none-any.whl (62 kB)\n",
      "\u001b[2K     \u001b[90m━━━━━━━━━━━━━━━━━━━━━━━━━━━━━━━━━━━━━━━━\u001b[0m \u001b[32m62.0/62.0 kB\u001b[0m \u001b[31m3.7 MB/s\u001b[0m eta \u001b[36m0:00:00\u001b[0m\n",
      "\u001b[?25hRequirement already satisfied: bitarray<3,>=1.2.1 in /Users/royceantonjose/anaconda3/envs/trading/lib/python3.10/site-packages (from eth_account) (2.7.3)\n",
      "Requirement already satisfied: eth-keyfile<0.6.0,>=0.5.0 in /Users/royceantonjose/anaconda3/envs/trading/lib/python3.10/site-packages (from eth_account) (0.5.1)\n",
      "Requirement already satisfied: hexbytes<1,>=0.1.0 in /Users/royceantonjose/anaconda3/envs/trading/lib/python3.10/site-packages (from eth_account) (0.3.0)\n",
      "Requirement already satisfied: eth-keys<0.4.0,>=0.3.4 in /Users/royceantonjose/anaconda3/envs/trading/lib/python3.10/site-packages (from eth_account) (0.3.4)\n",
      "Requirement already satisfied: rlp<3,>=1.0.0 in /Users/royceantonjose/anaconda3/envs/trading/lib/python3.10/site-packages (from eth_account) (2.0.1)\n",
      "Requirement already satisfied: eth-rlp<2,>=0.1.2 in /Users/royceantonjose/anaconda3/envs/trading/lib/python3.10/site-packages (from eth_account) (0.2.1)\n",
      "Requirement already satisfied: eth-abi<3,>=2.0.0b7 in /Users/royceantonjose/anaconda3/envs/trading/lib/python3.10/site-packages (from eth_account) (2.2.0)\n",
      "Requirement already satisfied: eth-utils<2,>=1.3.0 in /Users/royceantonjose/anaconda3/envs/trading/lib/python3.10/site-packages (from eth_account) (1.9.5)\n",
      "Requirement already satisfied: asn1crypto in /Users/royceantonjose/anaconda3/envs/trading/lib/python3.10/site-packages (from coincurve) (1.5.1)\n",
      "Requirement already satisfied: cffi>=1.3.0 in /Users/royceantonjose/anaconda3/envs/trading/lib/python3.10/site-packages (from coincurve) (1.15.1)\n",
      "Requirement already satisfied: six>=1.9.0 in /Users/royceantonjose/anaconda3/envs/trading/lib/python3.10/site-packages (from ecdsa) (1.16.0)\n",
      "Requirement already satisfied: pycparser in /Users/royceantonjose/anaconda3/envs/trading/lib/python3.10/site-packages (from cffi>=1.3.0->coincurve) (2.21)\n",
      "Requirement already satisfied: parsimonious<0.9.0,>=0.8.0 in /Users/royceantonjose/anaconda3/envs/trading/lib/python3.10/site-packages (from eth-abi<3,>=2.0.0b7->eth_account) (0.8.1)\n",
      "Requirement already satisfied: eth-typing<3.0.0,>=2.0.0 in /Users/royceantonjose/anaconda3/envs/trading/lib/python3.10/site-packages (from eth-abi<3,>=2.0.0b7->eth_account) (2.3.0)\n",
      "Requirement already satisfied: cytoolz<1.0.0,>=0.9.0 in /Users/royceantonjose/anaconda3/envs/trading/lib/python3.10/site-packages (from eth-keyfile<0.6.0,>=0.5.0->eth_account) (0.12.1)\n",
      "Requirement already satisfied: pycryptodome<4.0.0,>=3.4.7 in /Users/royceantonjose/anaconda3/envs/trading/lib/python3.10/site-packages (from eth-keyfile<0.6.0,>=0.5.0->eth_account) (3.17)\n",
      "Requirement already satisfied: eth-hash<1.0.0,>=0.1.0 in /Users/royceantonjose/anaconda3/envs/trading/lib/python3.10/site-packages (from eth-utils<2,>=1.3.0->eth_account) (0.5.1)\n",
      "Requirement already satisfied: toolz>=0.8.0 in /Users/royceantonjose/anaconda3/envs/trading/lib/python3.10/site-packages (from cytoolz<1.0.0,>=0.9.0->eth-keyfile<0.6.0,>=0.5.0->eth_account) (0.12.0)\n",
      "Installing collected packages: mnemonic\n",
      "Successfully installed mnemonic-0.20\n"
     ]
    }
   ],
   "source": [
    "!pip install eth_account coincurve pysha3 bech32 ecdsa hdwallets mnemonic"
   ]
  },
  {
   "cell_type": "markdown",
   "metadata": {},
   "source": [
    "# Ethereum Wallet"
   ]
  },
  {
   "cell_type": "code",
   "execution_count": 5,
   "metadata": {},
   "outputs": [
    {
     "data": {
      "text/plain": [
       "{'private_key': '0x4d1d2dac4e508635a379a87e6ca8cb32c303452b80106ca12a475cd7c07c1258',\n",
       " 'address': '0x111F8ac6341C6832567C0FCbe0b0d09AeD974025'}"
      ]
     },
     "execution_count": 5,
     "metadata": {},
     "output_type": "execute_result"
    }
   ],
   "source": [
    "import os\n",
    "import json\n",
    "from eth_account import Account\n",
    "\n",
    "def generate_wallet(blockchain='ethereum', wallet_name=None):\n",
    "    # Generate a new account\n",
    "    account = Account.create()\n",
    "\n",
    "    # Get the private key and address\n",
    "    wallet = {\n",
    "        'private_key': account.privateKey.hex(),\n",
    "        'address': account.address\n",
    "    }\n",
    "\n",
    "    # Create the directory if it doesn't exist\n",
    "    directory = f'wallets/{blockchain}'\n",
    "    if not os.path.exists(directory):\n",
    "        os.makedirs(directory)\n",
    "\n",
    "    # If no wallet name is provided, generate a default one\n",
    "    if wallet_name is None:\n",
    "        wallet_number = 1\n",
    "        wallet_name = f'wallet_{wallet_number}'\n",
    "        while os.path.exists(f'{directory}/{wallet_name}.json'):\n",
    "            wallet_number += 1\n",
    "            wallet_name = f'wallet_{wallet_number}'\n",
    "\n",
    "    # Save the wallet information to a JSON file\n",
    "    with open(f'{directory}/{wallet_name}.json', 'w') as file:\n",
    "        json.dump(wallet, file)\n",
    "\n",
    "    return wallet\n",
    "\n",
    "generate_wallet()"
   ]
  },
  {
   "cell_type": "markdown",
   "metadata": {},
   "source": [
    "# Avalanche"
   ]
  },
  {
   "cell_type": "code",
   "execution_count": 10,
   "metadata": {},
   "outputs": [
    {
     "data": {
      "text/plain": [
       "{'private_key': 'ee17c5477c62f55ef90f62d3a1c0af01ed1f7a22d6b9c7c2f5b361dc784940b5',\n",
       " 'address': '0x6d6f72251dfdb3e8fdf912b8359a77f19da5e113'}"
      ]
     },
     "execution_count": 10,
     "metadata": {},
     "output_type": "execute_result"
    }
   ],
   "source": [
    "import os\n",
    "import json\n",
    "import binascii\n",
    "from coincurve import PrivateKey\n",
    "from sha3 import keccak_256\n",
    "\n",
    "def generate_wallet(blockchain='avalanche', wallet_name=None):\n",
    "    # Generate a new private key\n",
    "    private_key = PrivateKey()\n",
    "    private_key_hex = private_key.to_hex()\n",
    "\n",
    "    # Get the public key\n",
    "    public_key = private_key.public_key.format(compressed=False)[1:]\n",
    "\n",
    "    # Hash the public key and get the address\n",
    "    address = '0x' + keccak_256(public_key).hexdigest()[-40:]\n",
    "\n",
    "    # Create the wallet\n",
    "    wallet = {\n",
    "        'private_key': private_key_hex,\n",
    "        'address': address\n",
    "    }\n",
    "\n",
    "    # Create the directory if it doesn't exist\n",
    "    directory = f'wallets/{blockchain}'\n",
    "    if not os.path.exists(directory):\n",
    "        os.makedirs(directory)\n",
    "\n",
    "    # If no wallet name is provided, generate a default one\n",
    "    if wallet_name is None:\n",
    "        wallet_number = 1\n",
    "        wallet_name = f'wallet_{wallet_number}'\n",
    "        while os.path.exists(f'{directory}/{wallet_name}.json'):\n",
    "            wallet_number += 1\n",
    "            wallet_name = f'wallet_{wallet_number}'\n",
    "\n",
    "    # Save the wallet information to a JSON file\n",
    "    with open(f'{directory}/{wallet_name}.json', 'w') as file:\n",
    "        json.dump(wallet, file)\n",
    "\n",
    "    return wallet\n",
    "\n",
    "generate_wallet(blockchain='avalanche')"
   ]
  },
  {
   "cell_type": "markdown",
   "metadata": {},
   "source": [
    "# Cosmos"
   ]
  },
  {
   "cell_type": "code",
   "execution_count": 22,
   "metadata": {},
   "outputs": [
    {
     "data": {
      "text/plain": [
       "{'private_key': '6593318c70af1ebcd96dc86690e808cebc5072894f8fdc20922ee9e6975a31b8',\n",
       " 'address': 'cosmos1a729vcnn2vu2tc2s2qhcws43yulhk4zgk2ff22'}"
      ]
     },
     "execution_count": 22,
     "metadata": {},
     "output_type": "execute_result"
    }
   ],
   "source": [
    "import os\n",
    "import json\n",
    "import hashlib\n",
    "\n",
    "import bech32\n",
    "import ecdsa\n",
    "import hdwallets\n",
    "import mnemonic\n",
    "\n",
    "\n",
    "DEFAULT_DERIVATION_PATH = \"m/44'/118'/0'/0/0\"\n",
    "DEFAULT_BECH32_HRP = \"cosmos\"\n",
    "\n",
    "class BIP32DerivationError(Exception):\n",
    "    pass\n",
    "\n",
    "def seed_to_privkey(seed: str, path: str = DEFAULT_DERIVATION_PATH) -> bytes:\n",
    "    seed_bytes = mnemonic.Mnemonic.to_seed(seed, passphrase=\"\")\n",
    "    hd_wallet = hdwallets.BIP32.from_seed(seed_bytes)\n",
    "    derived_privkey = hd_wallet.get_privkey_from_path(path)\n",
    "    return derived_privkey\n",
    "\n",
    "def privkey_to_pubkey(privkey: bytes) -> bytes:\n",
    "    privkey_obj = ecdsa.SigningKey.from_string(privkey, curve=ecdsa.SECP256k1)\n",
    "    pubkey_obj = privkey_obj.get_verifying_key()\n",
    "    return pubkey_obj.to_string(\"compressed\")\n",
    "\n",
    "def pubkey_to_address(pubkey: bytes, *, hrp: str = DEFAULT_BECH32_HRP) -> str:\n",
    "    s = hashlib.new(\"sha256\", pubkey).digest()\n",
    "    r = hashlib.new(\"ripemd160\", s).digest()\n",
    "    five_bit_r = bech32.convertbits(r, 8, 5)\n",
    "    assert five_bit_r is not None, \"Unsuccessful bech32.convertbits call\"\n",
    "    return bech32.bech32_encode(hrp, five_bit_r)\n",
    "\n",
    "def generate_wallet(blockchain='cosmos', wallet_name=None):\n",
    "    # Generate a new private key and public key\n",
    "    while True:\n",
    "        phrase = mnemonic.Mnemonic(language=\"english\").generate(strength=256)\n",
    "        try:\n",
    "            privkey = seed_to_privkey(phrase, path=DEFAULT_DERIVATION_PATH)\n",
    "            break\n",
    "        except BIP32DerivationError:\n",
    "            pass\n",
    "    pubkey = privkey_to_pubkey(privkey)\n",
    "\n",
    "    # Hash the public key and get the address\n",
    "    address = pubkey_to_address(pubkey, hrp=DEFAULT_BECH32_HRP)\n",
    "\n",
    "    # Create the wallet\n",
    "    wallet = {\n",
    "        'private_key': privkey.hex(),\n",
    "        'address': address\n",
    "    }\n",
    "\n",
    "    # Create the directory if it doesn't exist\n",
    "    directory = f'wallets/{blockchain}'\n",
    "    if not os.path.exists(directory):\n",
    "        os.makedirs(directory)\n",
    "\n",
    "    # If no wallet name is provided, generate a default one\n",
    "    if wallet_name is None:\n",
    "        wallet_number = 1\n",
    "        wallet_name = f'wallet_{wallet_number}'\n",
    "        while os.path.exists(f'{directory}/{wallet_name}.json'):\n",
    "            wallet_number += 1\n",
    "            wallet_name = f'wallet_{wallet_number}'\n",
    "\n",
    "    # Save the wallet information to a JSON file\n",
    "    with open(f'{directory}/{wallet_name}.json', 'w') as file:\n",
    "        json.dump(wallet, file)\n",
    "\n",
    "    return wallet\n",
    "\n",
    "generate_wallet(blockchain='cosmos')"
   ]
  },
  {
   "cell_type": "markdown",
   "metadata": {},
   "source": [
    "# Algorand"
   ]
  },
  {
   "cell_type": "code",
   "execution_count": 1,
   "metadata": {},
   "outputs": [
    {
     "name": "stdout",
     "output_type": "stream",
     "text": [
      "Collecting py-algorand-sdk\n",
      "  Downloading py_algorand_sdk-2.5.0-py3-none-any.whl (111 kB)\n",
      "\u001b[2K     \u001b[90m━━━━━━━━━━━━━━━━━━━━━━━━━━━━━━━━━━━━━━━\u001b[0m \u001b[32m111.8/111.8 kB\u001b[0m \u001b[31m7.6 MB/s\u001b[0m eta \u001b[36m0:00:00\u001b[0m\n",
      "\u001b[?25hRequirement already satisfied: pynacl<2,>=1.4.0 in /Users/royceantonjose/anaconda3/envs/trading/lib/python3.10/site-packages (from py-algorand-sdk) (1.5.0)\n",
      "Collecting msgpack<2,>=1.0.0\n",
      "  Downloading msgpack-1.0.7-cp310-cp310-macosx_10_9_x86_64.whl (234 kB)\n",
      "\u001b[2K     \u001b[90m━━━━━━━━━━━━━━━━━━━━━━━━━━━━━━━━━━━━━━\u001b[0m \u001b[32m235.0/235.0 kB\u001b[0m \u001b[31m18.2 MB/s\u001b[0m eta \u001b[36m0:00:00\u001b[0m\n",
      "\u001b[?25hCollecting pycryptodomex<4,>=3.6.0\n",
      "  Downloading pycryptodomex-3.19.0-cp35-abi3-macosx_10_9_x86_64.whl (1.6 MB)\n",
      "\u001b[2K     \u001b[90m━━━━━━━━━━━━━━━━━━━━━━━━━━━━━━━━━━━━━━━━\u001b[0m \u001b[32m1.6/1.6 MB\u001b[0m \u001b[31m42.9 MB/s\u001b[0m eta \u001b[36m0:00:00\u001b[0m\n",
      "\u001b[?25hRequirement already satisfied: cffi>=1.4.1 in /Users/royceantonjose/anaconda3/envs/trading/lib/python3.10/site-packages (from pynacl<2,>=1.4.0->py-algorand-sdk) (1.15.1)\n",
      "Requirement already satisfied: pycparser in /Users/royceantonjose/anaconda3/envs/trading/lib/python3.10/site-packages (from cffi>=1.4.1->pynacl<2,>=1.4.0->py-algorand-sdk) (2.21)\n",
      "Installing collected packages: pycryptodomex, msgpack, py-algorand-sdk\n",
      "Successfully installed msgpack-1.0.7 py-algorand-sdk-2.5.0 pycryptodomex-3.19.0\n"
     ]
    }
   ],
   "source": [
    "!pip install py-algorand-sdk"
   ]
  },
  {
   "cell_type": "code",
   "execution_count": 3,
   "metadata": {},
   "outputs": [
    {
     "name": "stdout",
     "output_type": "stream",
     "text": [
      "Your Algorand address:  XTX3KBMPGFB6VNVZTVOQ7LK7QMYG4OS6WDAP2WAQVRXXQKCWWNB6PW2QY4\n",
      "Your private key:  iRkJQoTDHQ3D8SVkP80F1RnOmG+JCw3Ia+ArQox8OhS877UFjzFD6ra5nV0PrV+DMG46XrDA/VgQrG94KFazQw==\n",
      "Your mnemonic phrase:  couple caught canal debate describe select mix chalk uncle crunch load outer order tower enter argue accuse quality usual cargo blush palace peace abandon coast\n"
     ]
    }
   ],
   "source": [
    "from algosdk import account, mnemonic\n",
    "\n",
    "def create_algorand_wallet():\n",
    "    private_key, address = account.generate_account()\n",
    "    print(\"Your Algorand address: \", address)\n",
    "    print(\"Your private key: \", private_key)\n",
    "\n",
    "    # Convert the private key to a 25-word mnemonic\n",
    "    mnemonic_phrase = mnemonic.from_private_key(private_key)\n",
    "    print(\"Your mnemonic phrase: \", mnemonic_phrase)\n",
    "\n",
    "create_algorand_wallet()"
   ]
  },
  {
   "cell_type": "markdown",
   "metadata": {},
   "source": [
    "# Bitcoin"
   ]
  },
  {
   "cell_type": "code",
   "execution_count": null,
   "metadata": {},
   "outputs": [],
   "source": []
  }
 ],
 "metadata": {
  "kernelspec": {
   "display_name": "trading",
   "language": "python",
   "name": "python3"
  },
  "language_info": {
   "codemirror_mode": {
    "name": "ipython",
    "version": 3
   },
   "file_extension": ".py",
   "mimetype": "text/x-python",
   "name": "python",
   "nbconvert_exporter": "python",
   "pygments_lexer": "ipython3",
   "version": "3.10.10"
  }
 },
 "nbformat": 4,
 "nbformat_minor": 2
}
