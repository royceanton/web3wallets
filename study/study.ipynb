{
 "cells": [
  {
   "cell_type": "markdown",
   "metadata": {},
   "source": [
    "# Plan"
   ]
  },
  {
   "cell_type": "markdown",
   "metadata": {},
   "source": [
    "``````\n",
    "Web-3-Wallet-Generator/\n",
    "├── .gitignore\n",
    "├── LICENSE\n",
    "├── README.md\n",
    "├── docs/\n",
    "│   └── index.md\n",
    "├── tests/\n",
    "│   └── test_wallet_generator.py\n",
    "└── web_3_wallet_generator/\n",
    "    └── __init__.py\n",
    "    └── wallet_generator.py\n",
    "\n",
    "``````"
   ]
  },
  {
   "cell_type": "markdown",
   "metadata": {},
   "source": []
  }
 ],
 "metadata": {
  "kernelspec": {
   "display_name": "trading",
   "language": "python",
   "name": "python3"
  },
  "language_info": {
   "name": "python",
   "version": "3.10.10"
  }
 },
 "nbformat": 4,
 "nbformat_minor": 2
}
