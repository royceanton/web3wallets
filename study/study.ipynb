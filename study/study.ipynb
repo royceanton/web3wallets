{
 "cells": [
  {
   "cell_type": "markdown",
   "metadata": {},
   "source": [
    "# Plan"
   ]
  },
  {
   "cell_type": "markdown",
   "metadata": {},
   "source": [
    "``````\n",
    "Web-3-Wallet-Generator/\n",
    "├── .gitignore\n",
    "├── LICENSE\n",
    "├── README.md\n",
    "├── docs/\n",
    "│   └── index.md\n",
    "├── tests/\n",
    "│   └── test_wallet_generator.py\n",
    "└── web_3_wallet_generator/\n",
    "    └── __init__.py\n",
    "    └── wallet_generator.py\n",
    "\n",
    "``````"
   ]
  },
  {
   "cell_type": "markdown",
   "metadata": {},
   "source": []
  },
  {
   "cell_type": "code",
   "execution_count": 9,
   "metadata": {},
   "outputs": [
    {
     "name": "stdout",
     "output_type": "stream",
     "text": [
      "Requirement already satisfied: eth_account in /Users/royceantonjose/anaconda3/envs/trading/lib/python3.10/site-packages (0.5.9)\n",
      "Requirement already satisfied: coincurve in /Users/royceantonjose/anaconda3/envs/trading/lib/python3.10/site-packages (18.0.0)\n",
      "Collecting pysha3\n",
      "  Downloading pysha3-1.0.2.tar.gz (829 kB)\n",
      "\u001b[2K     \u001b[90m━━━━━━━━━━━━━━━━━━━━━━━━━━━━━━━━━━━━━━\u001b[0m \u001b[32m829.2/829.2 kB\u001b[0m \u001b[31m20.4 MB/s\u001b[0m eta \u001b[36m0:00:00\u001b[0m00:01\u001b[0m\n",
      "\u001b[?25h  Preparing metadata (setup.py) ... \u001b[?25ldone\n",
      "\u001b[?25hRequirement already satisfied: eth-keys<0.4.0,>=0.3.4 in /Users/royceantonjose/anaconda3/envs/trading/lib/python3.10/site-packages (from eth_account) (0.3.4)\n",
      "Requirement already satisfied: eth-abi<3,>=2.0.0b7 in /Users/royceantonjose/anaconda3/envs/trading/lib/python3.10/site-packages (from eth_account) (2.2.0)\n",
      "Requirement already satisfied: eth-rlp<2,>=0.1.2 in /Users/royceantonjose/anaconda3/envs/trading/lib/python3.10/site-packages (from eth_account) (0.2.1)\n",
      "Requirement already satisfied: rlp<3,>=1.0.0 in /Users/royceantonjose/anaconda3/envs/trading/lib/python3.10/site-packages (from eth_account) (2.0.1)\n",
      "Requirement already satisfied: eth-keyfile<0.6.0,>=0.5.0 in /Users/royceantonjose/anaconda3/envs/trading/lib/python3.10/site-packages (from eth_account) (0.5.1)\n",
      "Requirement already satisfied: hexbytes<1,>=0.1.0 in /Users/royceantonjose/anaconda3/envs/trading/lib/python3.10/site-packages (from eth_account) (0.3.0)\n",
      "Requirement already satisfied: eth-utils<2,>=1.3.0 in /Users/royceantonjose/anaconda3/envs/trading/lib/python3.10/site-packages (from eth_account) (1.9.5)\n",
      "Requirement already satisfied: bitarray<3,>=1.2.1 in /Users/royceantonjose/anaconda3/envs/trading/lib/python3.10/site-packages (from eth_account) (2.7.3)\n",
      "Requirement already satisfied: cffi>=1.3.0 in /Users/royceantonjose/anaconda3/envs/trading/lib/python3.10/site-packages (from coincurve) (1.15.1)\n",
      "Requirement already satisfied: asn1crypto in /Users/royceantonjose/anaconda3/envs/trading/lib/python3.10/site-packages (from coincurve) (1.5.1)\n",
      "Requirement already satisfied: pycparser in /Users/royceantonjose/anaconda3/envs/trading/lib/python3.10/site-packages (from cffi>=1.3.0->coincurve) (2.21)\n",
      "Requirement already satisfied: parsimonious<0.9.0,>=0.8.0 in /Users/royceantonjose/anaconda3/envs/trading/lib/python3.10/site-packages (from eth-abi<3,>=2.0.0b7->eth_account) (0.8.1)\n",
      "Requirement already satisfied: eth-typing<3.0.0,>=2.0.0 in /Users/royceantonjose/anaconda3/envs/trading/lib/python3.10/site-packages (from eth-abi<3,>=2.0.0b7->eth_account) (2.3.0)\n",
      "Requirement already satisfied: pycryptodome<4.0.0,>=3.4.7 in /Users/royceantonjose/anaconda3/envs/trading/lib/python3.10/site-packages (from eth-keyfile<0.6.0,>=0.5.0->eth_account) (3.17)\n",
      "Requirement already satisfied: cytoolz<1.0.0,>=0.9.0 in /Users/royceantonjose/anaconda3/envs/trading/lib/python3.10/site-packages (from eth-keyfile<0.6.0,>=0.5.0->eth_account) (0.12.1)\n",
      "Requirement already satisfied: eth-hash<1.0.0,>=0.1.0 in /Users/royceantonjose/anaconda3/envs/trading/lib/python3.10/site-packages (from eth-utils<2,>=1.3.0->eth_account) (0.5.1)\n",
      "Requirement already satisfied: toolz>=0.8.0 in /Users/royceantonjose/anaconda3/envs/trading/lib/python3.10/site-packages (from cytoolz<1.0.0,>=0.9.0->eth-keyfile<0.6.0,>=0.5.0->eth_account) (0.12.0)\n",
      "Requirement already satisfied: six>=1.9.0 in /Users/royceantonjose/anaconda3/envs/trading/lib/python3.10/site-packages (from parsimonious<0.9.0,>=0.8.0->eth-abi<3,>=2.0.0b7->eth_account) (1.16.0)\n",
      "Building wheels for collected packages: pysha3\n",
      "  Building wheel for pysha3 (setup.py) ... \u001b[?25lerror\n",
      "  \u001b[1;31merror\u001b[0m: \u001b[1msubprocess-exited-with-error\u001b[0m\n",
      "  \n",
      "  \u001b[31m×\u001b[0m \u001b[32mpython setup.py bdist_wheel\u001b[0m did not run successfully.\n",
      "  \u001b[31m│\u001b[0m exit code: \u001b[1;36m1\u001b[0m\n",
      "  \u001b[31m╰─>\u001b[0m \u001b[31m[56 lines of output]\u001b[0m\n",
      "  \u001b[31m   \u001b[0m running bdist_wheel\n",
      "  \u001b[31m   \u001b[0m running build\n",
      "  \u001b[31m   \u001b[0m running build_py\n",
      "  \u001b[31m   \u001b[0m creating build\n",
      "  \u001b[31m   \u001b[0m creating build/lib.macosx-10.9-x86_64-cpython-310\n",
      "  \u001b[31m   \u001b[0m copying sha3.py -> build/lib.macosx-10.9-x86_64-cpython-310\n",
      "  \u001b[31m   \u001b[0m running build_ext\n",
      "  \u001b[31m   \u001b[0m building '_pysha3' extension\n",
      "  \u001b[31m   \u001b[0m creating build/temp.macosx-10.9-x86_64-cpython-310\n",
      "  \u001b[31m   \u001b[0m creating build/temp.macosx-10.9-x86_64-cpython-310/Modules\n",
      "  \u001b[31m   \u001b[0m creating build/temp.macosx-10.9-x86_64-cpython-310/Modules/_sha3\n",
      "  \u001b[31m   \u001b[0m clang -Wno-unused-result -Wsign-compare -Wunreachable-code -DNDEBUG -fwrapv -O2 -Wall -fPIC -O2 -isystem /Users/royceantonjose/anaconda3/envs/trading/include -fPIC -O2 -isystem /Users/royceantonjose/anaconda3/envs/trading/include -DPY_WITH_KECCAK=1 -I/Users/royceantonjose/anaconda3/envs/trading/include/python3.10 -c Modules/_sha3/sha3module.c -o build/temp.macosx-10.9-x86_64-cpython-310/Modules/_sha3/sha3module.o\n",
      "  \u001b[31m   \u001b[0m clang -Wno-unused-result -Wsign-compare -Wunreachable-code -DNDEBUG -fwrapv -O2 -Wall -fPIC -O2 -isystem /Users/royceantonjose/anaconda3/envs/trading/include -fPIC -O2 -isystem /Users/royceantonjose/anaconda3/envs/trading/include -DPY_WITH_KECCAK=1 -I/Users/royceantonjose/anaconda3/envs/trading/include/python3.10 -c Modules/pymemsets.c -o build/temp.macosx-10.9-x86_64-cpython-310/Modules/pymemsets.o\n",
      "  \u001b[31m   \u001b[0m clang -bundle -undefined dynamic_lookup -Wl,-rpath,/Users/royceantonjose/anaconda3/envs/trading/lib -L/Users/royceantonjose/anaconda3/envs/trading/lib -Wl,-rpath,/Users/royceantonjose/anaconda3/envs/trading/lib -L/Users/royceantonjose/anaconda3/envs/trading/lib build/temp.macosx-10.9-x86_64-cpython-310/Modules/_sha3/sha3module.o build/temp.macosx-10.9-x86_64-cpython-310/Modules/pymemsets.o -o build/lib.macosx-10.9-x86_64-cpython-310/_pysha3.cpython-310-darwin.so\n",
      "  \u001b[31m   \u001b[0m /Users/royceantonjose/anaconda3/envs/trading/lib/python3.10/site-packages/setuptools/command/install.py:34: SetuptoolsDeprecationWarning: setup.py install is deprecated. Use build and pip and other standards-based tools.\n",
      "  \u001b[31m   \u001b[0m   warnings.warn(\n",
      "  \u001b[31m   \u001b[0m installing to build/bdist.macosx-10.9-x86_64/wheel\n",
      "  \u001b[31m   \u001b[0m running install\n",
      "  \u001b[31m   \u001b[0m running install_lib\n",
      "  \u001b[31m   \u001b[0m creating build/bdist.macosx-10.9-x86_64\n",
      "  \u001b[31m   \u001b[0m creating build/bdist.macosx-10.9-x86_64/wheel\n",
      "  \u001b[31m   \u001b[0m copying build/lib.macosx-10.9-x86_64-cpython-310/_pysha3.cpython-310-darwin.so -> build/bdist.macosx-10.9-x86_64/wheel\n",
      "  \u001b[31m   \u001b[0m copying build/lib.macosx-10.9-x86_64-cpython-310/sha3.py -> build/bdist.macosx-10.9-x86_64/wheel\n",
      "  \u001b[31m   \u001b[0m running install_egg_info\n",
      "  \u001b[31m   \u001b[0m running egg_info\n",
      "  \u001b[31m   \u001b[0m writing pysha3.egg-info/PKG-INFO\n",
      "  \u001b[31m   \u001b[0m writing dependency_links to pysha3.egg-info/dependency_links.txt\n",
      "  \u001b[31m   \u001b[0m writing top-level names to pysha3.egg-info/top_level.txt\n",
      "  \u001b[31m   \u001b[0m reading manifest file 'pysha3.egg-info/SOURCES.txt'\n",
      "  \u001b[31m   \u001b[0m reading manifest template 'MANIFEST.in'\n",
      "  \u001b[31m   \u001b[0m adding license file 'LICENSE'\n",
      "  \u001b[31m   \u001b[0m writing manifest file 'pysha3.egg-info/SOURCES.txt'\n",
      "  \u001b[31m   \u001b[0m Copying pysha3.egg-info to build/bdist.macosx-10.9-x86_64/wheel/pysha3-1.0.2-py3.10.egg-info\n",
      "  \u001b[31m   \u001b[0m running install_scripts\n",
      "  \u001b[31m   \u001b[0m Traceback (most recent call last):\n",
      "  \u001b[31m   \u001b[0m   File \"<string>\", line 2, in <module>\n",
      "  \u001b[31m   \u001b[0m   File \"<pip-setuptools-caller>\", line 34, in <module>\n",
      "  \u001b[31m   \u001b[0m   File \"/private/var/folders/ry/5t81qtl94tjb0k9d5t49d30m0000gn/T/pip-install-rfx88z6r/pysha3_0061932699af4059b0dbe776f113259e/setup.py\", line 89, in <module>\n",
      "  \u001b[31m   \u001b[0m     setup(\n",
      "  \u001b[31m   \u001b[0m   File \"/Users/royceantonjose/anaconda3/envs/trading/lib/python3.10/site-packages/setuptools/__init__.py\", line 87, in setup\n",
      "  \u001b[31m   \u001b[0m     return distutils.core.setup(**attrs)\n",
      "  \u001b[31m   \u001b[0m   File \"/Users/royceantonjose/anaconda3/envs/trading/lib/python3.10/site-packages/setuptools/_distutils/core.py\", line 185, in setup\n",
      "  \u001b[31m   \u001b[0m     return run_commands(dist)\n",
      "  \u001b[31m   \u001b[0m   File \"/Users/royceantonjose/anaconda3/envs/trading/lib/python3.10/site-packages/setuptools/_distutils/core.py\", line 201, in run_commands\n",
      "  \u001b[31m   \u001b[0m     dist.run_commands()\n",
      "  \u001b[31m   \u001b[0m   File \"/Users/royceantonjose/anaconda3/envs/trading/lib/python3.10/site-packages/setuptools/_distutils/dist.py\", line 969, in run_commands\n",
      "  \u001b[31m   \u001b[0m     self.run_command(cmd)\n",
      "  \u001b[31m   \u001b[0m   File \"/Users/royceantonjose/anaconda3/envs/trading/lib/python3.10/site-packages/setuptools/dist.py\", line 1208, in run_command\n",
      "  \u001b[31m   \u001b[0m     super().run_command(command)\n",
      "  \u001b[31m   \u001b[0m   File \"/Users/royceantonjose/anaconda3/envs/trading/lib/python3.10/site-packages/setuptools/_distutils/dist.py\", line 988, in run_command\n",
      "  \u001b[31m   \u001b[0m     cmd_obj.run()\n",
      "  \u001b[31m   \u001b[0m   File \"/Users/royceantonjose/anaconda3/envs/trading/lib/python3.10/site-packages/wheel/bdist_wheel.py\", line 328, in run\n",
      "  \u001b[31m   \u001b[0m     impl_tag, abi_tag, plat_tag = self.get_tag()\n",
      "  \u001b[31m   \u001b[0m   File \"/Users/royceantonjose/anaconda3/envs/trading/lib/python3.10/site-packages/wheel/bdist_wheel.py\", line 278, in get_tag\n",
      "  \u001b[31m   \u001b[0m     assert tag in supported_tags, \"would build wheel with unsupported tag {}\".format(tag)\n",
      "  \u001b[31m   \u001b[0m AssertionError: would build wheel with unsupported tag ('cp310', 'cp310', 'macosx_10_9_x86_64')\n",
      "  \u001b[31m   \u001b[0m \u001b[31m[end of output]\u001b[0m\n",
      "  \n",
      "  \u001b[1;35mnote\u001b[0m: This error originates from a subprocess, and is likely not a problem with pip.\n",
      "\u001b[31m  ERROR: Failed building wheel for pysha3\u001b[0m\u001b[31m\n",
      "\u001b[0m\u001b[?25h  Running setup.py clean for pysha3\n",
      "Failed to build pysha3\n",
      "Installing collected packages: pysha3\n",
      "  Running setup.py install for pysha3 ... \u001b[?25ldone\n",
      "\u001b[?25h\u001b[33m  DEPRECATION: pysha3 was installed using the legacy 'setup.py install' method, because a wheel could not be built for it. pip 23.1 will enforce this behaviour change. A possible replacement is to fix the wheel build issue reported above. Discussion can be found at https://github.com/pypa/pip/issues/8368\u001b[0m\u001b[33m\n",
      "\u001b[0mSuccessfully installed pysha3-1.0.2\n"
     ]
    }
   ],
   "source": [
    "!pip install eth_account coincurve pysha3"
   ]
  },
  {
   "cell_type": "markdown",
   "metadata": {},
   "source": [
    "# Ethereum Wallet"
   ]
  },
  {
   "cell_type": "code",
   "execution_count": 5,
   "metadata": {},
   "outputs": [
    {
     "data": {
      "text/plain": [
       "{'private_key': '0x4d1d2dac4e508635a379a87e6ca8cb32c303452b80106ca12a475cd7c07c1258',\n",
       " 'address': '0x111F8ac6341C6832567C0FCbe0b0d09AeD974025'}"
      ]
     },
     "execution_count": 5,
     "metadata": {},
     "output_type": "execute_result"
    }
   ],
   "source": [
    "import os\n",
    "import json\n",
    "from eth_account import Account\n",
    "\n",
    "def generate_wallet(blockchain='ethereum', wallet_name=None):\n",
    "    # Generate a new account\n",
    "    account = Account.create()\n",
    "\n",
    "    # Get the private key and address\n",
    "    wallet = {\n",
    "        'private_key': account.privateKey.hex(),\n",
    "        'address': account.address\n",
    "    }\n",
    "\n",
    "    # Create the directory if it doesn't exist\n",
    "    directory = f'wallets/{blockchain}'\n",
    "    if not os.path.exists(directory):\n",
    "        os.makedirs(directory)\n",
    "\n",
    "    # If no wallet name is provided, generate a default one\n",
    "    if wallet_name is None:\n",
    "        wallet_number = 1\n",
    "        wallet_name = f'wallet_{wallet_number}'\n",
    "        while os.path.exists(f'{directory}/{wallet_name}.json'):\n",
    "            wallet_number += 1\n",
    "            wallet_name = f'wallet_{wallet_number}'\n",
    "\n",
    "    # Save the wallet information to a JSON file\n",
    "    with open(f'{directory}/{wallet_name}.json', 'w') as file:\n",
    "        json.dump(wallet, file)\n",
    "\n",
    "    return wallet\n",
    "\n",
    "generate_wallet()"
   ]
  },
  {
   "cell_type": "markdown",
   "metadata": {},
   "source": [
    "# Avalanche"
   ]
  },
  {
   "cell_type": "code",
   "execution_count": 10,
   "metadata": {},
   "outputs": [
    {
     "data": {
      "text/plain": [
       "{'private_key': 'ee17c5477c62f55ef90f62d3a1c0af01ed1f7a22d6b9c7c2f5b361dc784940b5',\n",
       " 'address': '0x6d6f72251dfdb3e8fdf912b8359a77f19da5e113'}"
      ]
     },
     "execution_count": 10,
     "metadata": {},
     "output_type": "execute_result"
    }
   ],
   "source": [
    "import os\n",
    "import json\n",
    "import binascii\n",
    "from coincurve import PrivateKey\n",
    "from sha3 import keccak_256\n",
    "\n",
    "def generate_wallet(blockchain='avalanche', wallet_name=None):\n",
    "    # Generate a new private key\n",
    "    private_key = PrivateKey()\n",
    "    private_key_hex = private_key.to_hex()\n",
    "\n",
    "    # Get the public key\n",
    "    public_key = private_key.public_key.format(compressed=False)[1:]\n",
    "\n",
    "    # Hash the public key and get the address\n",
    "    address = '0x' + keccak_256(public_key).hexdigest()[-40:]\n",
    "\n",
    "    # Create the wallet\n",
    "    wallet = {\n",
    "        'private_key': private_key_hex,\n",
    "        'address': address\n",
    "    }\n",
    "\n",
    "    # Create the directory if it doesn't exist\n",
    "    directory = f'wallets/{blockchain}'\n",
    "    if not os.path.exists(directory):\n",
    "        os.makedirs(directory)\n",
    "\n",
    "    # If no wallet name is provided, generate a default one\n",
    "    if wallet_name is None:\n",
    "        wallet_number = 1\n",
    "        wallet_name = f'wallet_{wallet_number}'\n",
    "        while os.path.exists(f'{directory}/{wallet_name}.json'):\n",
    "            wallet_number += 1\n",
    "            wallet_name = f'wallet_{wallet_number}'\n",
    "\n",
    "    # Save the wallet information to a JSON file\n",
    "    with open(f'{directory}/{wallet_name}.json', 'w') as file:\n",
    "        json.dump(wallet, file)\n",
    "\n",
    "    return wallet\n",
    "\n",
    "generate_wallet(blockchain='avalanche')"
   ]
  },
  {
   "cell_type": "code",
   "execution_count": null,
   "metadata": {},
   "outputs": [],
   "source": []
  }
 ],
 "metadata": {
  "kernelspec": {
   "display_name": "trading",
   "language": "python",
   "name": "python3"
  },
  "language_info": {
   "codemirror_mode": {
    "name": "ipython",
    "version": 3
   },
   "file_extension": ".py",
   "mimetype": "text/x-python",
   "name": "python",
   "nbconvert_exporter": "python",
   "pygments_lexer": "ipython3",
   "version": "3.10.10"
  }
 },
 "nbformat": 4,
 "nbformat_minor": 2
}
