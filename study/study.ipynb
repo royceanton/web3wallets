{
 "cells": [
  {
   "cell_type": "markdown",
   "metadata": {},
   "source": [
    "# Plan"
   ]
  },
  {
   "cell_type": "markdown",
   "metadata": {},
   "source": [
    "``````\n",
    "Web-3-Wallet-Generator/\n",
    "├── .gitignore\n",
    "├── LICENSE\n",
    "├── README.md\n",
    "├── docs/\n",
    "│   └── index.md\n",
    "├── tests/\n",
    "│   └── test_wallet_generator.py\n",
    "└── web_3_wallet_generator/\n",
    "    └── __init__.py\n",
    "    └── wallet_generator.py\n",
    "\n",
    "``````"
   ]
  },
  {
   "cell_type": "markdown",
   "metadata": {},
   "source": []
  },
  {
   "cell_type": "markdown",
   "metadata": {},
   "source": [
    "# Ethereum Wallet"
   ]
  },
  {
   "cell_type": "code",
   "execution_count": 4,
   "metadata": {},
   "outputs": [
    {
     "data": {
      "text/plain": [
       "{'private_key': '0xd8fb4afa7acdcb91f8d3f8b9791c026ca7c055659278028a1969d634ae5667df',\n",
       " 'address': '0xEe00d26322EfDa2cC16ace704A1CE0a648B24fDd'}"
      ]
     },
     "execution_count": 4,
     "metadata": {},
     "output_type": "execute_result"
    }
   ],
   "source": [
    "import os\n",
    "import json\n",
    "from eth_account import Account\n",
    "\n",
    "def generate_eth_wallet(blockchain='ethereum', wallet_name=None):\n",
    "    # Generate a new account\n",
    "    account = Account.create()\n",
    "\n",
    "    # Get the private key and address\n",
    "    wallet = {\n",
    "        'private_key': account.privateKey.hex(),\n",
    "        'address': account.address\n",
    "    }\n",
    "\n",
    "    # Create the directory if it doesn't exist\n",
    "    directory = f'wallets/{blockchain}'\n",
    "    if not os.path.exists(directory):\n",
    "        os.makedirs(directory)\n",
    "\n",
    "    # If no wallet name is provided, generate a default one\n",
    "    if wallet_name is None:\n",
    "        wallet_number = 1\n",
    "        wallet_name = f'wallet_{wallet_number}'\n",
    "        while os.path.exists(f'{directory}/{wallet_name}.json'):\n",
    "            wallet_number += 1\n",
    "            wallet_name = f'wallet_{wallet_number}'\n",
    "\n",
    "    # Save the wallet information to a JSON file\n",
    "    with open(f'{directory}/{wallet_name}.json', 'w') as file:\n",
    "        json.dump(wallet, file)\n",
    "\n",
    "    return wallet\n",
    "\n",
    "generate_eth_wallet()"
   ]
  },
  {
   "cell_type": "code",
   "execution_count": null,
   "metadata": {},
   "outputs": [],
   "source": []
  }
 ],
 "metadata": {
  "kernelspec": {
   "display_name": "trading",
   "language": "python",
   "name": "python3"
  },
  "language_info": {
   "codemirror_mode": {
    "name": "ipython",
    "version": 3
   },
   "file_extension": ".py",
   "mimetype": "text/x-python",
   "name": "python",
   "nbconvert_exporter": "python",
   "pygments_lexer": "ipython3",
   "version": "3.10.10"
  }
 },
 "nbformat": 4,
 "nbformat_minor": 2
}
